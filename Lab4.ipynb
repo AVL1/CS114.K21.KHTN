{
  "nbformat": 4,
  "nbformat_minor": 0,
  "metadata": {
    "colab": {
      "name": "Lab4.ipynb",
      "provenance": [],
      "authorship_tag": "ABX9TyN7FNrQcDVIxxdwYqi+i9fT",
      "include_colab_link": true
    },
    "kernelspec": {
      "name": "python3",
      "display_name": "Python 3"
    }
  },
  "cells": [
    {
      "cell_type": "markdown",
      "metadata": {
        "id": "view-in-github",
        "colab_type": "text"
      },
      "source": [
        "<a href=\"https://colab.research.google.com/github/AVL1/CS114.K21.KHTN/blob/master/Lab4.ipynb\" target=\"_parent\"><img src=\"https://colab.research.google.com/assets/colab-badge.svg\" alt=\"Open In Colab\"/></a>"
      ]
    },
    {
      "cell_type": "markdown",
      "metadata": {
        "id": "eoTX9VU_EtQh",
        "colab_type": "text"
      },
      "source": [
        "**Sentiment Analysis Using MonkeylearnAPI**\n",
        "Usage: input a sentence and this API will classify if it is positive, negative or neutral with confidence value."
      ]
    },
    {
      "cell_type": "code",
      "metadata": {
        "id": "yhF7658f1Bm8",
        "colab_type": "code",
        "colab": {
          "base_uri": "https://localhost:8080/",
          "height": 134
        },
        "outputId": "c5ddb67b-9770-4716-9c01-b0cac1b29f4a"
      },
      "source": [
        "!pip install monkeylearn"
      ],
      "execution_count": 1,
      "outputs": [
        {
          "output_type": "stream",
          "text": [
            "Requirement already satisfied: monkeylearn in /usr/local/lib/python3.6/dist-packages (3.5.2)\n",
            "Requirement already satisfied: six>=1.10.0 in /usr/local/lib/python3.6/dist-packages (from monkeylearn) (1.12.0)\n",
            "Requirement already satisfied: requests>=2.8.1 in /usr/local/lib/python3.6/dist-packages (from monkeylearn) (2.21.0)\n",
            "Requirement already satisfied: certifi>=2017.4.17 in /usr/local/lib/python3.6/dist-packages (from requests>=2.8.1->monkeylearn) (2020.4.5.1)\n",
            "Requirement already satisfied: chardet<3.1.0,>=3.0.2 in /usr/local/lib/python3.6/dist-packages (from requests>=2.8.1->monkeylearn) (3.0.4)\n",
            "Requirement already satisfied: urllib3<1.25,>=1.21.1 in /usr/local/lib/python3.6/dist-packages (from requests>=2.8.1->monkeylearn) (1.24.3)\n",
            "Requirement already satisfied: idna<2.9,>=2.5 in /usr/local/lib/python3.6/dist-packages (from requests>=2.8.1->monkeylearn) (2.8)\n"
          ],
          "name": "stdout"
        }
      ]
    },
    {
      "cell_type": "markdown",
      "metadata": {
        "id": "bEtTE4Q8E3ha",
        "colab_type": "text"
      },
      "source": [
        "**Authentication**"
      ]
    },
    {
      "cell_type": "code",
      "metadata": {
        "id": "aH1bnUNmEsoA",
        "colab_type": "code",
        "colab": {}
      },
      "source": [
        "from monkeylearn import MonkeyLearn\n",
        "mkl = MonkeyLearn('e6d800a61b79365ff4842132ce0a2c5b3a60dcd1')  #API key"
      ],
      "execution_count": 0,
      "outputs": []
    },
    {
      "cell_type": "markdown",
      "metadata": {
        "id": "WNw3VpMbR_Uo",
        "colab_type": "text"
      },
      "source": [
        "**Using API**"
      ]
    },
    {
      "cell_type": "code",
      "metadata": {
        "id": "FNYQciBrFIu_",
        "colab_type": "code",
        "colab": {
          "base_uri": "https://localhost:8080/",
          "height": 67
        },
        "outputId": "252cdecb-4ec3-4a60-a48c-784022389eb0"
      },
      "source": [
        "text_input = input('Enter a sentence: ')\n",
        "model_id = 'cl_pi3C7JiL'\n",
        "result = mkl.classifiers.classify(model_id, [text_input])\n",
        "access_value = result.body[0]['classifications'][0]\n",
        "print('Tag:', access_value['tag_name'])\n",
        "print('Confidence:', access_value['confidence'] * 100, '%')"
      ],
      "execution_count": 11,
      "outputs": [
        {
          "output_type": "stream",
          "text": [
            "Enter a sentence: Oh! The cat is sitting on the sun.\n",
            "Tag: Neutral\n",
            "Confidence: 72.8 %\n"
          ],
          "name": "stdout"
        }
      ]
    }
  ]
}