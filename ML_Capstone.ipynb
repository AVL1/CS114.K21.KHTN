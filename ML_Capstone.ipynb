{
  "nbformat": 4,
  "nbformat_minor": 0,
  "metadata": {
    "colab": {
      "name": "ML-Capstone.ipynb",
      "provenance": [],
      "collapsed_sections": [],
      "authorship_tag": "ABX9TyOe0h2xbNqxWi+eFB+oXdA1",
      "include_colab_link": true
    },
    "kernelspec": {
      "name": "python3",
      "display_name": "Python 3"
    }
  },
  "cells": [
    {
      "cell_type": "markdown",
      "metadata": {
        "id": "view-in-github",
        "colab_type": "text"
      },
      "source": [
        "<a href=\"https://colab.research.google.com/github/AVL1/CS114.K21.KHTN/blob/master/ML_Capstone.ipynb\" target=\"_parent\"><img src=\"https://colab.research.google.com/assets/colab-badge.svg\" alt=\"Open In Colab\"/></a>"
      ]
    },
    {
      "cell_type": "markdown",
      "metadata": {
        "id": "7KVhlWbqqcsO",
        "colab_type": "text"
      },
      "source": [
        "#**PHÁT HIỆN BÌNH LUẬN XUYÊN TẠC, CHỐNG ĐỐI NHÀ NƯỚC TRÊN MẠNG XÃ HỘI**"
      ]
    },
    {
      "cell_type": "markdown",
      "metadata": {
        "id": "AenQWPdBq6j-",
        "colab_type": "text"
      },
      "source": [
        "#1. Mô tả bài toán:\n",
        ">Input: một câu bình luận\\\n",
        ">Output: \n",
        ">> 1, nếu bình luận trên có tính chất xuyên tạc, chống đối.\\\n",
        ">> 0, nếu bình luận không liên quan đến vấn đề.\\\n",
        ">>-1, nếu bình luận không mang tính chất xuyên tạc, chống đối."
      ]
    },
    {
      "cell_type": "markdown",
      "metadata": {
        "id": "U_WvKacbs-aB",
        "colab_type": "text"
      },
      "source": [
        "#2. Mô tả bộ dữ liệu:\n",
        "a. Cách thức xây dựng:\n",
        ">Tìm kiếm những bình luận Tiếng Việt có liên quan đến chính trị trên mạng xã hội, đặc biệt là những cá nhân, trang, nhóm thường xuyên có những bài viết, bình luận mang tính xuyên tạc, chống phá Nhà nước Việt Nam.\n",
        "\n",
        "b. Số lượng, độ đa dạng:\n",
        ">Số lượng dự kiến: 5000 câu\n",
        "\n",
        "c. Các thao tác tiền xử lý:\n",
        " >Loại bỏ dấu kết thúc câu, kí tự đặc biệt.\\\n",
        " >Chuyển những kí tự viết hoa thành viết thường, chuẩn hoá font, cỡ chữ.\\\n",
        " >Loại bỏ stopword (những từ dùng để nối câu, không mang ý nghĩa).\\\n",
        " >Tokenize: sử dụng công cụ để tách từ Tiếng Việt (VD: pyvi).\n",
        "\n",
        "d. Phân chia dữ liệu:\\\n",
        " Train//Dev//Test = 8/1/1\n"
      ]
    },
    {
      "cell_type": "markdown",
      "metadata": {
        "id": "m8AD-r7_yUUu",
        "colab_type": "text"
      },
      "source": [
        "#3. Mô tả đặc trưng:\n",
        "Word Embedding, TF-IDF."
      ]
    },
    {
      "cell_type": "markdown",
      "metadata": {
        "id": "AZz9OxFD0g9T",
        "colab_type": "text"
      },
      "source": [
        "#4. Mô tả về thuật toán:\n",
        "Sử dụng thuật toán SVM, Naive Bayes, Decision Tree..."
      ]
    },
    {
      "cell_type": "markdown",
      "metadata": {
        "id": "7nPlGBdUMvoZ",
        "colab_type": "text"
      },
      "source": [
        "#5. Cài đặt, tinh chỉnh tham số:"
      ]
    },
    {
      "cell_type": "markdown",
      "metadata": {
        "id": "vuMQwefuM2nR",
        "colab_type": "text"
      },
      "source": [
        "#6. Đánh giá kết quả, kết luận:"
      ]
    }
  ]
}